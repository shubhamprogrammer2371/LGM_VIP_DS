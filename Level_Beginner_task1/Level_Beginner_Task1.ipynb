{
 "cells": [
  {
   "cell_type": "markdown",
   "id": "36cddf8e",
   "metadata": {},
   "source": [
    "# LetsGrowMore January 2022\n",
    "\n",
    "NAME :- SHUBHAM BHALERAO\n",
    "\n",
    "Task-1.1) Iris Flowers Classification ML Project\n",
    "\n",
    "Level :- Beginner\n",
    "\n",
    "Language :- Python\n",
    "\n",
    "Iris Flowers Classification ML Project :\n",
    "\n",
    "This particular ML project is usually referred to as the “Hello World” of Machine Learning. The iris flowers dataset contains numeric attributes, and it is perfect for beginners to learn about supervised ML algorithms, mainly how to load and handle data. Also, since this is a small dataset, it can easily fit in memory without requiring special transformations or scaling capabilities.\n",
    "\n",
    "Dataset Link : http://archive.ics.uci.edu/ml/datasets/Iris"
   ]
  },
  {
   "cell_type": "markdown",
   "id": "e7dc41cc",
   "metadata": {},
   "source": [
    "# Importing Required Libraries"
   ]
  },
  {
   "cell_type": "code",
   "execution_count": null,
   "id": "d59f0785",
   "metadata": {},
   "outputs": [],
   "source": [
    "import pandas as pd\n",
    "from matplotlib import pyplot as plt\n",
    "import seaborn as sns"
   ]
  },
  {
   "cell_type": "markdown",
   "id": "4aff1c33",
   "metadata": {},
   "source": [
    "# Loading Or Reading The CSV File "
   ]
  },
  {
   "cell_type": "code",
   "execution_count": null,
   "id": "48482f55",
   "metadata": {},
   "outputs": [],
   "source": [
    "iris_dataframe = pd.read_csv('iris.csv') # Reading the csv file using pandas.\n",
    "iris_dataframe"
   ]
  },
  {
   "cell_type": "markdown",
   "id": "b36e90e7",
   "metadata": {},
   "source": [
    "# Exploratory Data Analysis EDA on the dataset "
   ]
  },
  {
   "cell_type": "code",
   "execution_count": null,
   "id": "82a29534",
   "metadata": {},
   "outputs": [],
   "source": [
    "iris_dataframe.head() # Display the first five rows of the data from  dataset."
   ]
  },
  {
   "cell_type": "code",
   "execution_count": null,
   "id": "ba3ac7f0",
   "metadata": {},
   "outputs": [],
   "source": [
    "iris_dataframe.tail() # Display the last five rows of the data from dataset."
   ]
  },
  {
   "cell_type": "code",
   "execution_count": null,
   "id": "2e464d85",
   "metadata": {},
   "outputs": [],
   "source": [
    "iris_dataframe['Species'].unique() # Displays the Unique Value from the column Species in the dataset."
   ]
  },
  {
   "cell_type": "code",
   "execution_count": null,
   "id": "67e336d0",
   "metadata": {},
   "outputs": [],
   "source": [
    "# Renaming the column name SepalLengthCm as Sepal_Length , SepalWidthCm as Sepal_Width , PetalLengthCm as Petal_Length , PetalWidthCm as Petal_Width.\n",
    "iris_dataframe.rename(columns={'SepalLengthCm':'Sepal_Length', 'SepalWidthCm':'Sepal_Width','PetalLengthCm':'Petal_Length','PetalWidthCm':'Petal_Width'}, inplace=True)\n",
    "iris_dataframe"
   ]
  },
  {
   "cell_type": "code",
   "execution_count": null,
   "id": "b8c1c686",
   "metadata": {},
   "outputs": [],
   "source": [
    "# Replacing the data Iris-virginica by Virginica , Iris-setosa by Setosa and Iris-versicolor by Versicolor in the Species Column for easy data manipulation.\n",
    "iris_dataframe['Species'].replace({'Iris-virginica':'Virginica','Iris-setosa':'Setosa','Iris-versicolor':'Versicolor'},inplace=True)\n",
    "iris_dataframe"
   ]
  },
  {
   "cell_type": "code",
   "execution_count": null,
   "id": "57c3bc80",
   "metadata": {},
   "outputs": [],
   "source": [
    "# Here we are droping the Id column  from the data set as it is not necessary for data manipluation and prediction. \n",
    "iris_dataframe = iris_dataframe.drop(\"Id\", axis=1) \n",
    "iris_dataframe"
   ]
  },
  {
   "cell_type": "code",
   "execution_count": null,
   "id": "b744dbe2",
   "metadata": {},
   "outputs": [],
   "source": [
    "iris_dataframe.shape # It shows the shape of the data variable in tuple format i.e. no. of rows and column."
   ]
  },
  {
   "cell_type": "code",
   "execution_count": null,
   "id": "16a8dad0",
   "metadata": {},
   "outputs": [],
   "source": [
    "iris_dataframe.info() # Print the summary of the dataframe like no. of rows and detailed information about the columns. "
   ]
  },
  {
   "cell_type": "code",
   "execution_count": null,
   "id": "baea450b",
   "metadata": {},
   "outputs": [],
   "source": [
    "iris_dataframe.describe() # Shows the Statistical details of the column which has numerical values."
   ]
  },
  {
   "cell_type": "code",
   "execution_count": null,
   "id": "cf6bda82",
   "metadata": {},
   "outputs": [],
   "source": [
    "pd.DataFrame(iris_dataframe.Species).value_counts() # Gives the count of categorical column with respect to each category.\n",
    "# i.e. there are 50 Setosa , 50 Versicolor and 50 Virginica different species present in the dataset."
   ]
  },
  {
   "cell_type": "code",
   "execution_count": null,
   "id": "c3321350",
   "metadata": {},
   "outputs": [],
   "source": [
    "iris_dataframe.isna().sum() # Checks whether the dataframe contains any null record or not and then gives the count of null records. "
   ]
  },
  {
   "cell_type": "markdown",
   "id": "50c8c3c7",
   "metadata": {},
   "source": [
    "# Data Visualization"
   ]
  },
  {
   "cell_type": "code",
   "execution_count": null,
   "id": "fadb1486",
   "metadata": {},
   "outputs": [],
   "source": [
    "sns.heatmap(iris_dataframe.corr(),annot=True) # Heatmap gives Color encoded 2D representation of Data."
   ]
  },
  {
   "cell_type": "code",
   "execution_count": null,
   "id": "76dc685f",
   "metadata": {},
   "outputs": [],
   "source": [
    "# Grouping the dataset by Species and Sepal_Length and then unstacking them.\n",
    "group1=iris_dataframe.groupby(['Species','Sepal_Length'])\n",
    "species_sepal=group1.size().unstack()\n",
    "print(species_sepal)\n",
    "sns.heatmap(species_sepal,annot=True) "
   ]
  },
  {
   "cell_type": "code",
   "execution_count": null,
   "id": "9d042508",
   "metadata": {
    "scrolled": false
   },
   "outputs": [],
   "source": [
    "sns.pairplot(iris_dataframe,hue='Species') # Pairplot gives a pairwise relationships in a dataframe.\n",
    "# Blue , Orange and Green color represents the Setosa , Versicolor and Virginica Species respectively."
   ]
  },
  {
   "cell_type": "code",
   "execution_count": null,
   "id": "24b96a07",
   "metadata": {},
   "outputs": [],
   "source": [
    "iris_dataframe.hist() # Histogram gives the frequency distribution of the columns containing numerical data."
   ]
  },
  {
   "cell_type": "code",
   "execution_count": null,
   "id": "0cdc99b5",
   "metadata": {},
   "outputs": [],
   "source": [
    "# Boxplot is a method for graphically representing the skewness of numerical data.\n",
    "# Data beyond the boxplot are called as exceptions or outliers.\n",
    "fig=plt.gcf()\n",
    "fig.set_size_inches(20,10)\n",
    "fig=sns.boxplot(x='Species',y='Petal_Length',data=iris_dataframe,order=['Virginica', 'Versicolor', 'Setosa'],linewidth=2.5,orient='v',dodge=False)"
   ]
  },
  {
   "cell_type": "code",
   "execution_count": null,
   "id": "d6faa111",
   "metadata": {},
   "outputs": [],
   "source": [
    "# Pie plot shows the quantity of data from categorical columns.\n",
    "ax=plt.subplots(1,1,figsize=(10,8))\n",
    "iris_dataframe['Species'].value_counts().plot.pie(explode=[0.1,0.1,0.1],autopct='%1.1f%%',shadow=True,figsize=(20,10))\n",
    "plt.title(\"Iris Species\")\n",
    "plt.ylabel('   ')\n",
    "plt.show()"
   ]
  },
  {
   "cell_type": "code",
   "execution_count": null,
   "id": "f656d4b9",
   "metadata": {},
   "outputs": [],
   "source": [
    "# Violinplot displays distribution of data accross all level of category.\n",
    "sns.violinplot(x=\"Species\",y=\"Sepal_Length\",data=iris_dataframe,split=True)"
   ]
  },
  {
   "cell_type": "markdown",
   "id": "ee52da48",
   "metadata": {},
   "source": [
    "# Spliting the dataset as X = independent variable and y = dependent variable for Analysis and Prediction"
   ]
  },
  {
   "cell_type": "code",
   "execution_count": null,
   "id": "de7a014f",
   "metadata": {},
   "outputs": [],
   "source": [
    "X=iris_dataframe.iloc[:,[0,1,2,3]] # Fetching all rows and 4 columns excluding the species column in the X variable.\n",
    "Y=iris_dataframe.Species # Fetching the column named Species in the Y Variable."
   ]
  },
  {
   "cell_type": "code",
   "execution_count": null,
   "id": "39a126fa",
   "metadata": {},
   "outputs": [],
   "source": [
    "print(\"Number of rows and columns in the X variable is\",X.shape) # Shows the shape of the data variable in tuple format i.e. no. of rows and column.\n",
    "print(\"Number of rows and columns in the Y variable is\",Y.shape) # Shows the shape of the data variable in tuple format i.e. no. of rows and column."
   ]
  },
  {
   "cell_type": "markdown",
   "id": "23e3908f",
   "metadata": {},
   "source": [
    "# Splitting the dataset into Train and Test dataset"
   ]
  },
  {
   "cell_type": "code",
   "execution_count": null,
   "id": "775ad5be",
   "metadata": {},
   "outputs": [],
   "source": [
    "from sklearn.model_selection import train_test_split\n",
    "X_train, X_test, Y_train, Y_test = train_test_split(X, Y, test_size=0.2, random_state=18) "
   ]
  },
  {
   "cell_type": "code",
   "execution_count": null,
   "id": "4e00750f",
   "metadata": {},
   "outputs": [],
   "source": [
    "print(\"Number of rows and columns in the X_train dataset is\",X_train.shape) # Shows the shape of the data variable in tuple format i.e. no. of rows and column.\n",
    "print(\"Number of rows and columns in the Y_train dataset is\",Y_train.shape) # Shows the shape of the data variable in tuple format i.e. no. of rows and column.\n",
    "print(\"Number of rows and columns in the X_test dataset is\",X_test.shape) # Shows the shape of the data variable in tuple format i.e. no. of rows and column.\n",
    "print(\"Number of rows and columns in the Y_test dataset is\",Y_test.shape) # Shows the shape of the data variable in tuple format i.e. no. of rows and column."
   ]
  },
  {
   "cell_type": "markdown",
   "id": "5284fdb0",
   "metadata": {},
   "source": [
    "# Building Model using Support Vector Machine(SVM)"
   ]
  },
  {
   "cell_type": "code",
   "execution_count": null,
   "id": "1b59e2f4",
   "metadata": {},
   "outputs": [],
   "source": [
    "from sklearn.svm import SVC  \n",
    "svclassifier = SVC(kernel='rbf', gamma='auto')  \n",
    "svclassifier.fit(X_train, Y_train) \n",
    "\n",
    "# Prediction and Evaluation\n",
    "y_pred = svclassifier.predict(X_test)  \n",
    "\n",
    "from sklearn.metrics import classification_report, confusion_matrix  \n",
    "print(confusion_matrix(Y_test, y_pred))\n",
    "print(\"\\n***************************************************************************************************\")\n",
    "print(classification_report(Y_test, y_pred))  "
   ]
  }
 ],
 "metadata": {
  "kernelspec": {
   "display_name": "Python 3 (ipykernel)",
   "language": "python",
   "name": "python3"
  },
  "language_info": {
   "codemirror_mode": {
    "name": "ipython",
    "version": 3
   },
   "file_extension": ".py",
   "mimetype": "text/x-python",
   "name": "python",
   "nbconvert_exporter": "python",
   "pygments_lexer": "ipython3",
   "version": "3.9.6"
  }
 },
 "nbformat": 4,
 "nbformat_minor": 5
}
