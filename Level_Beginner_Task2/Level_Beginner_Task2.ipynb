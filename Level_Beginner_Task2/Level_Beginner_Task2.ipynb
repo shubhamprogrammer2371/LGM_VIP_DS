{
 "cells": [
  {
   "cell_type": "markdown",
   "id": "e4bbc2e2",
   "metadata": {},
   "source": [
    "# LetsGrowMore January 2022\n",
    "\n",
    "NAME :- SHUBHAM BHALERAO\n",
    "\n",
    "Task :- 1.2) Stock Market Prediction And Forecasting Using Stacked LSTM\n",
    "\n",
    "Level :- Beginner\n",
    "\n",
    "Language :- Python\n",
    "\n",
    "Software :- Jupyter Notebook\n",
    "\n",
    "Dataset Link :- https://raw.githubusercontent.com/mwitiderrick/stockprice/master/NSE-TATAGLOBAL.csv"
   ]
  },
  {
   "cell_type": "markdown",
   "id": "a6dedc4c",
   "metadata": {},
   "source": [
    "# Importing Required Libraries"
   ]
  },
  {
   "cell_type": "code",
   "execution_count": null,
   "id": "9d454713",
   "metadata": {},
   "outputs": [],
   "source": [
    "import numpy as np\n",
    "import pandas as pd\n",
    "import matplotlib.pyplot as plt\n",
    "import tensorflow as tf\n",
    "import seaborn as sns\n",
    "from sklearn.preprocessing import MinMaxScaler"
   ]
  },
  {
   "cell_type": "markdown",
   "id": "3efb7ed6",
   "metadata": {},
   "source": [
    "# Loading Or Reading The CSV File"
   ]
  },
  {
   "cell_type": "code",
   "execution_count": null,
   "id": "c5459641",
   "metadata": {},
   "outputs": [],
   "source": [
    "NSE_DataFrame = pd.read_csv(\"NSE-TATAGLOBAL.csv\") # Reading the csv file using pandas.\n",
    "NSE_DataFrame"
   ]
  },
  {
   "cell_type": "code",
   "execution_count": null,
   "id": "0b632fd1",
   "metadata": {},
   "outputs": [],
   "source": [
    "NSE_DataFrame.head() # Display the first five rows of the data from  dataset."
   ]
  },
  {
   "cell_type": "code",
   "execution_count": null,
   "id": "04e0b58b",
   "metadata": {},
   "outputs": [],
   "source": [
    "NSE_DataFrame.tail() # Display the last five rows of the data from dataset."
   ]
  },
  {
   "cell_type": "code",
   "execution_count": null,
   "id": "7963969a",
   "metadata": {},
   "outputs": [],
   "source": [
    "NSE_DataFrame.shape # It shows the shape of the data variable in tuple format i.e. no. of rows and column."
   ]
  },
  {
   "cell_type": "code",
   "execution_count": null,
   "id": "dae95c0c",
   "metadata": {},
   "outputs": [],
   "source": [
    "NSE_DataFrame.info() # Print the summary of the dataframe like no. of rows and detailed information about the columns. "
   ]
  },
  {
   "cell_type": "code",
   "execution_count": null,
   "id": "cd9d0af4",
   "metadata": {},
   "outputs": [],
   "source": [
    "NSE_DataFrame.describe() # Shows the Statistical details of the column which has numerical values."
   ]
  },
  {
   "cell_type": "code",
   "execution_count": null,
   "id": "b081be61",
   "metadata": {},
   "outputs": [],
   "source": [
    "NSE_DataFrame.columns"
   ]
  },
  {
   "cell_type": "code",
   "execution_count": null,
   "id": "530f7231",
   "metadata": {},
   "outputs": [],
   "source": [
    "NSE_DataFrame.isna().any() # Checks whether the dataframe contains any null record or not and then gives the value. "
   ]
  },
  {
   "cell_type": "markdown",
   "id": "cba6a3fe",
   "metadata": {},
   "source": [
    "# Data Sorting"
   ]
  },
  {
   "cell_type": "code",
   "execution_count": null,
   "id": "4655e66c",
   "metadata": {},
   "outputs": [],
   "source": [
    "NSE_DataFrame['Date']=pd.to_datetime(NSE_DataFrame['Date'])\n",
    "print(type(NSE_DataFrame.Date[0]))"
   ]
  },
  {
   "cell_type": "code",
   "execution_count": null,
   "id": "a9b7ce9a",
   "metadata": {},
   "outputs": [],
   "source": [
    "Sort_Data=NSE_DataFrame.sort_values(by='Date') # Sorting the values with respect to date in ascending order\n",
    "Sort_Data.head()"
   ]
  },
  {
   "cell_type": "code",
   "execution_count": null,
   "id": "0b40ad6c",
   "metadata": {},
   "outputs": [],
   "source": [
    "Sort_Data.reset_index(inplace=True)\n",
    "Sort_Data.head()"
   ]
  },
  {
   "cell_type": "code",
   "execution_count": null,
   "id": "091dbc18",
   "metadata": {},
   "outputs": [],
   "source": [
    "NSE_DataFrame.corr()"
   ]
  },
  {
   "cell_type": "code",
   "execution_count": null,
   "id": "f365fdb0",
   "metadata": {},
   "outputs": [],
   "source": [
    "NSE_DataFrame['Close'].value_counts()"
   ]
  },
  {
   "cell_type": "markdown",
   "id": "025cd203",
   "metadata": {},
   "source": [
    "# Correlation Matrix"
   ]
  },
  {
   "cell_type": "code",
   "execution_count": null,
   "id": "8b9f173b",
   "metadata": {},
   "outputs": [],
   "source": [
    "plt.figure(figsize=(10,8))\n",
    "sns.heatmap(NSE_DataFrame.corr(),annot=True)"
   ]
  },
  {
   "cell_type": "markdown",
   "id": "6e9257ad",
   "metadata": {},
   "source": [
    "# Data Visualization"
   ]
  },
  {
   "cell_type": "code",
   "execution_count": null,
   "id": "bb8c859e",
   "metadata": {},
   "outputs": [],
   "source": [
    "plt.plot(NSE_DataFrame['Close'])\n",
    "plt.xlabel(\"Number of points\")\n",
    "plt.ylabel(\"Close values\")\n",
    "plt.title(\"Stock Prediction\")"
   ]
  },
  {
   "cell_type": "code",
   "execution_count": null,
   "id": "30b067da",
   "metadata": {},
   "outputs": [],
   "source": [
    "plt.plot(Sort_Data['Close'])\n",
    "plt.xlabel(\"High\")\n",
    "plt.ylabel(\"Low\")\n",
    "plt.title(\"Stock Prediction\")"
   ]
  },
  {
   "cell_type": "code",
   "execution_count": null,
   "id": "d68d9dc0",
   "metadata": {},
   "outputs": [],
   "source": [
    "Data_Frame=Sort_Data['Close']\n",
    "Data_Frame"
   ]
  },
  {
   "cell_type": "code",
   "execution_count": null,
   "id": "0f50356e",
   "metadata": {},
   "outputs": [],
   "source": [
    "sns.pairplot(NSE_DataFrame)"
   ]
  },
  {
   "cell_type": "markdown",
   "id": "d4b2d4c3",
   "metadata": {},
   "source": [
    "# Min Max Scaler"
   ]
  },
  {
   "cell_type": "code",
   "execution_count": null,
   "id": "b5439b17",
   "metadata": {},
   "outputs": [],
   "source": [
    "scaler=MinMaxScaler(feature_range=(0,1))\n",
    "Df_Array=scaler.fit_transform(np.array(Data_Frame).reshape(-1,1))\n",
    "Df_Array"
   ]
  },
  {
   "cell_type": "markdown",
   "id": "d3d1bd3f",
   "metadata": {},
   "source": [
    "# Spliting the Dataset"
   ]
  },
  {
   "cell_type": "code",
   "execution_count": null,
   "id": "91228279",
   "metadata": {},
   "outputs": [],
   "source": [
    "training_size=int(len(Df_Array)*0.70)\n",
    "test_size=len(Df_Array)-training_size\n",
    "train_data,test_data=Df_Array[0:training_size,:],Df_Array[training_size:len(Df_Array),:1]"
   ]
  },
  {
   "cell_type": "markdown",
   "id": "561534f9",
   "metadata": {},
   "source": [
    "# Convert an array of values into a dataset matrix"
   ]
  },
  {
   "cell_type": "code",
   "execution_count": null,
   "id": "6cf4b729",
   "metadata": {},
   "outputs": [],
   "source": [
    "def create_dataset(dataset, time_step=1):\n",
    "    dataX, dataY = [], []\n",
    "    for i in range(len(dataset)-time_step-1):\n",
    "        a = dataset[i:(i+time_step), 0]\n",
    "        dataX.append(a)\n",
    "        dataY.append(dataset[i + time_step, 0])\n",
    "    return np.array(dataX), np.array(dataY)"
   ]
  },
  {
   "cell_type": "markdown",
   "id": "db2b6d79",
   "metadata": {},
   "source": [
    "# Splitting Data into Train and Test"
   ]
  },
  {
   "cell_type": "code",
   "execution_count": null,
   "id": "8e31ba63",
   "metadata": {},
   "outputs": [],
   "source": [
    "time_step = 100\n",
    "X_train,Y_train = create_dataset(train_data, time_step)\n",
    "X_test,Y_test = create_dataset(test_data, time_step)"
   ]
  },
  {
   "cell_type": "code",
   "execution_count": null,
   "id": "ca79c881",
   "metadata": {},
   "outputs": [],
   "source": [
    "print(\"Number of rows and columns in the X_train dataset is\",X_train.shape) # Shows the shape of the data variable in tuple format i.e. no. of rows and column.\n",
    "print(\"Number of rows and columns in the Y_train dataset is\",Y_train.shape) # Shows the shape of the data variable in tuple format i.e. no. of rows and column.\n",
    "print(\"Number of rows and columns in the X_test dataset is\",X_test.shape) # Shows the shape of the data variable in tuple format i.e. no. of rows and column.\n",
    "print(\"Number of rows and columns in the Y_test dataset is\",Y_test.shape) # Shows the shape of the data variable in tuple format i.e. no. of rows and column."
   ]
  },
  {
   "cell_type": "code",
   "execution_count": null,
   "id": "83712183",
   "metadata": {},
   "outputs": [],
   "source": [
    "X_train =X_train.reshape(X_train.shape[0],X_train.shape[1] , 1)\n",
    "X_test = X_test.reshape(X_test.shape[0],X_test.shape[1] , 1)"
   ]
  },
  {
   "cell_type": "markdown",
   "id": "fc04f43d",
   "metadata": {},
   "source": [
    "# Creating the LSTM Model"
   ]
  },
  {
   "cell_type": "code",
   "execution_count": null,
   "id": "1abbd9a2",
   "metadata": {},
   "outputs": [],
   "source": [
    "from tensorflow.keras.models import Sequential\n",
    "from tensorflow.keras.layers import Dense\n",
    "from tensorflow.keras.layers import LSTM"
   ]
  },
  {
   "cell_type": "code",
   "execution_count": null,
   "id": "63643510",
   "metadata": {},
   "outputs": [],
   "source": [
    "model=Sequential()\n",
    "model.add(LSTM(50,return_sequences=True,input_shape=(100,1)))\n",
    "model.add(LSTM(50,return_sequences=True))\n",
    "model.add(LSTM(50))\n",
    "model.add(Dense(1))\n",
    "model.compile(loss='mean_squared_error',optimizer='adam')\n",
    "model.summary()"
   ]
  },
  {
   "cell_type": "code",
   "execution_count": null,
   "id": "79ceb739",
   "metadata": {},
   "outputs": [],
   "source": [
    "model.fit(X_train,Y_train,validation_split=0.1,epochs=78,batch_size=64,verbose=1)"
   ]
  },
  {
   "cell_type": "markdown",
   "id": "f08cdea2",
   "metadata": {},
   "source": [
    "# Prediction and Checking Performance"
   ]
  },
  {
   "cell_type": "code",
   "execution_count": null,
   "id": "07282521",
   "metadata": {},
   "outputs": [],
   "source": [
    "test_predict=model.predict(X_test)"
   ]
  },
  {
   "cell_type": "code",
   "execution_count": null,
   "id": "91298cd7",
   "metadata": {
    "scrolled": true
   },
   "outputs": [],
   "source": [
    "test_predicted=scaler.inverse_transform(test_predict)\n",
    "test_predicted"
   ]
  },
  {
   "cell_type": "markdown",
   "id": "9e86e8e4",
   "metadata": {},
   "source": [
    "# Calculating performance"
   ]
  },
  {
   "cell_type": "code",
   "execution_count": null,
   "id": "28359907",
   "metadata": {},
   "outputs": [],
   "source": [
    "import math\n",
    "from sklearn.metrics import mean_squared_error"
   ]
  },
  {
   "cell_type": "code",
   "execution_count": null,
   "id": "e75aba53",
   "metadata": {},
   "outputs": [],
   "source": [
    "performance = math.sqrt(mean_squared_error(Y_test,test_predict))\n",
    "performance"
   ]
  }
 ],
 "metadata": {
  "kernelspec": {
   "display_name": "Python 3 (ipykernel)",
   "language": "python",
   "name": "python3"
  },
  "language_info": {
   "codemirror_mode": {
    "name": "ipython",
    "version": 3
   },
   "file_extension": ".py",
   "mimetype": "text/x-python",
   "name": "python",
   "nbconvert_exporter": "python",
   "pygments_lexer": "ipython3",
   "version": "3.9.6"
  }
 },
 "nbformat": 4,
 "nbformat_minor": 5
}
