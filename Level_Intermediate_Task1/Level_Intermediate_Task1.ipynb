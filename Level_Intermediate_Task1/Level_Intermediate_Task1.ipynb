{
 "cells": [
  {
   "cell_type": "markdown",
   "id": "cce4095b",
   "metadata": {},
   "source": [
    "# LetsGrowMore January 2022\n",
    "\n",
    "NAME :- SHUBHAM BHALERAO\n",
    "\n",
    "Task :- 2.1) Exploratory Data Analysis on Dataset - Terrorism\n",
    "\n",
    "Level :- Intermediate\n",
    "\n",
    "Language :- Python\n",
    "\n",
    "Software :- Jupyter Notebook\n",
    "\n",
    "2.1) Exploratory Data Analysis on Dataset - Terrorism :\n",
    "\n",
    "As a security/defense analyst, try to find out the hot zone of terrorism.\n",
    "\n",
    "Dataset Link :- https://bit.ly/2TK5Xn5"
   ]
  },
  {
   "cell_type": "markdown",
   "id": "47259abc",
   "metadata": {},
   "source": [
    "# Importing Required Libraries"
   ]
  },
  {
   "cell_type": "code",
   "execution_count": null,
   "id": "10fbbb9b",
   "metadata": {},
   "outputs": [],
   "source": [
    "import pandas as pd\n",
    "import numpy as np\n",
    "import matplotlib.pyplot as plt \n",
    "import seaborn as sns"
   ]
  },
  {
   "cell_type": "markdown",
   "id": "4fde8e1b",
   "metadata": {},
   "source": [
    "# Loading Or Reading The CSV File"
   ]
  },
  {
   "cell_type": "code",
   "execution_count": null,
   "id": "200ea4a2",
   "metadata": {},
   "outputs": [],
   "source": [
    "Terrorism_Dataframe = pd.read_csv(\"globalterrorismdb.csv\",encoding='latin1',low_memory=False)"
   ]
  },
  {
   "cell_type": "markdown",
   "id": "9edd2cf3",
   "metadata": {},
   "source": [
    "# Exploratory Data Analysis EDA on the dataset"
   ]
  },
  {
   "cell_type": "code",
   "execution_count": null,
   "id": "bb5722d8",
   "metadata": {},
   "outputs": [],
   "source": [
    "Terrorism_Dataframe.head() # Display the first five rows of the data from  dataset."
   ]
  },
  {
   "cell_type": "code",
   "execution_count": null,
   "id": "3161037d",
   "metadata": {},
   "outputs": [],
   "source": [
    "Terrorism_Dataframe.tail() # Display the last five rows of the data from dataset."
   ]
  },
  {
   "cell_type": "code",
   "execution_count": null,
   "id": "5e7c5c03",
   "metadata": {},
   "outputs": [],
   "source": [
    "Terrorism_Dataframe.rename(columns={'iyear':'Year','imonth':'Month','iday':\"Day\",'gname':'Group','country_txt':'Country','region_txt':'Region','provstate':'State','city':'City','latitude':'latitude',\n",
    "    'longitude':'longitude','summary':'Summary','attacktype1_txt':'Attacktype','targtype1_txt':'Targettype','weaptype1_txt':'Weapon','nkill':'Kill',\n",
    "     'nwound':'Wound'},inplace=True) #Renaming all Columns for understanding"
   ]
  },
  {
   "cell_type": "code",
   "execution_count": null,
   "id": "4461146b",
   "metadata": {},
   "outputs": [],
   "source": [
    "Terrorism_Dataframe['City'].unique()  #Displays the Unique Value from the column City in the dataset."
   ]
  },
  {
   "cell_type": "code",
   "execution_count": null,
   "id": "cedf6b19",
   "metadata": {},
   "outputs": [],
   "source": [
    "Terrorism_Dataframe.shape # It shows the shape of the data variable in tuple format i.e. no. of rows and column."
   ]
  },
  {
   "cell_type": "code",
   "execution_count": null,
   "id": "e713bafa",
   "metadata": {},
   "outputs": [],
   "source": [
    "Terrorism_Dataframe.info() # Print the summary of the dataframe like no. of rows and detailed information about the columns. "
   ]
  },
  {
   "cell_type": "code",
   "execution_count": null,
   "id": "4faffb29",
   "metadata": {
    "scrolled": true
   },
   "outputs": [],
   "source": [
    "Terrorism_Dataframe.describe() # Shows the Statistical details of the column which has numerical values."
   ]
  },
  {
   "cell_type": "code",
   "execution_count": null,
   "id": "c47648b0",
   "metadata": {},
   "outputs": [],
   "source": [
    "pd.DataFrame(Terrorism_Dataframe.City).value_counts() # Gives the count of categorical column with respect to each category."
   ]
  },
  {
   "cell_type": "code",
   "execution_count": null,
   "id": "dc079cf8",
   "metadata": {},
   "outputs": [],
   "source": [
    "pd.DataFrame(Terrorism_Dataframe.Country).value_counts() # Gives the count of categorical column with respect to each category."
   ]
  },
  {
   "cell_type": "code",
   "execution_count": null,
   "id": "39fe9c8c",
   "metadata": {},
   "outputs": [],
   "source": [
    "Terrorism_Dataframe.isna().sum() # Checks whether the dataframe contains any null record or not and then gives the count of null records. "
   ]
  },
  {
   "cell_type": "code",
   "execution_count": null,
   "id": "2310e546",
   "metadata": {},
   "outputs": [],
   "source": [
    "Terrorism_Dataframe.drop(['motive','Summary','latitude','longitude'],axis=1,inplace=True) # Dropping the unnecessary columns"
   ]
  },
  {
   "cell_type": "code",
   "execution_count": null,
   "id": "dc8811a2",
   "metadata": {},
   "outputs": [],
   "source": [
    "Terrorism_Dataframe.shape # It shows the shape of the data variable in tuple format i.e. no. of rows and column."
   ]
  },
  {
   "cell_type": "code",
   "execution_count": null,
   "id": "65e984cc",
   "metadata": {},
   "outputs": [],
   "source": [
    "Terrorism_Dataframe.describe() # Shows the Statistical details of the column which has numerical values."
   ]
  },
  {
   "cell_type": "markdown",
   "id": "26b246cf",
   "metadata": {},
   "source": [
    "# Data Visualization"
   ]
  },
  {
   "cell_type": "code",
   "execution_count": null,
   "id": "e3822a22",
   "metadata": {},
   "outputs": [],
   "source": [
    "# Correlation Matrix\n",
    "correlation = Terrorism_Dataframe.corr()\n",
    "correlation"
   ]
  },
  {
   "cell_type": "code",
   "execution_count": null,
   "id": "4c62cdd5",
   "metadata": {},
   "outputs": [],
   "source": [
    "sns.heatmap(correlation,annot=True) #Visualize the Correlation matrix"
   ]
  },
  {
   "cell_type": "code",
   "execution_count": null,
   "id": "7a67a13c",
   "metadata": {},
   "outputs": [],
   "source": [
    "attack = Terrorism_Dataframe.Country.value_counts()[:10] # Displays first 10 rows from value counts w.r.t country column\n",
    "attack"
   ]
  },
  {
   "cell_type": "code",
   "execution_count": null,
   "id": "5d3947fb",
   "metadata": {},
   "outputs": [],
   "source": [
    "year = Terrorism_Dataframe['Year'].unique()\n",
    "years_count = Terrorism_Dataframe['Year'].value_counts(dropna = False).sort_index()\n",
    "plt.figure(figsize = (18,10))\n",
    "sns.barplot(x = year,y = years_count,palette = \"Paired\")\n",
    "plt.xticks(rotation=90,fontsize=15)\n",
    "plt.yticks(fontsize=15)\n",
    "plt.xlabel('Attacking Year',fontsize=25)\n",
    "plt.ylabel('Number of Attacks',fontsize=25)\n",
    "plt.title('Attacks Analysis',fontsize=40)\n",
    "plt.show()"
   ]
  },
  {
   "cell_type": "code",
   "execution_count": null,
   "id": "17a2a737",
   "metadata": {},
   "outputs": [],
   "source": [
    "df = Terrorism_Dataframe[['Year','Kill']].groupby(['Year']).sum()\n",
    "fig, ax4 = plt.subplots(figsize=(25,15))\n",
    "df.plot(kind='bar',alpha=0.7,ax=ax4)\n",
    "plt.title(\"People Died Analysis\",fontsize=25)\n",
    "plt.ylabel(\"Number of killed people\",fontsize=20)\n",
    "plt.xlabel('Year',fontsize=20)\n",
    "plt.xticks(fontsize=15)\n",
    "plt.yticks(fontsize=15)"
   ]
  },
  {
   "cell_type": "code",
   "execution_count": null,
   "id": "7e6bd3ea",
   "metadata": {},
   "outputs": [],
   "source": [
    "pd.crosstab(Terrorism_Dataframe.Year, Terrorism_Dataframe.Region).plot(kind='area',stacked=False,figsize=(20,10))\n",
    "plt.title('Terrorist Activities By Region In Each Year',fontsize=35)\n",
    "plt.ylabel('Number of Terrorist Attacks',fontsize=25)\n",
    "plt.xlabel(\"Years\",fontsize=25)\n",
    "plt.show()"
   ]
  },
  {
   "cell_type": "code",
   "execution_count": null,
   "id": "297b4304",
   "metadata": {},
   "outputs": [],
   "source": [
    "plt.subplots(figsize=(20,10))\n",
    "sns.barplot(x=Terrorism_Dataframe['Country'].value_counts()[:10].index,y=Terrorism_Dataframe['Country'].value_counts()[:10].values,palette=\"Set2\")\n",
    "plt.title('Counteries Affected By Attacks',fontsize=25)\n",
    "plt.xlabel('Countries',fontsize=25)\n",
    "plt.ylabel('Count',fontsize=25)\n",
    "plt.xticks(fontsize=15)\n",
    "plt.yticks(fontsize=15)\n",
    "plt.show()"
   ]
  },
  {
   "cell_type": "code",
   "execution_count": null,
   "id": "a509af54",
   "metadata": {},
   "outputs": [],
   "source": [
    "Terrorism_Dataframe[['Attacktype','Kill']].groupby([\"Attacktype\"],axis=0).sum().plot(kind='bar',figsize=(20,10),color=\"Red\")\n",
    "plt.xticks(rotation=90,fontsize=15)\n",
    "plt.yticks(fontsize=15)\n",
    "plt.title(\"Number of Killed vs Type of Attacks\",fontsize=20)\n",
    "plt.ylabel('Number of people killed',fontsize=15)\n",
    "plt.xlabel('Type of Attacks',fontsize=15)\n",
    "plt.show()"
   ]
  },
  {
   "cell_type": "code",
   "execution_count": null,
   "id": "8edee9b9",
   "metadata": {},
   "outputs": [],
   "source": [
    "Terrorism_Dataframe['City'].value_counts().to_frame().sort_values('City',axis=0,ascending=False).head(10).plot(kind='bar',figsize=(20,10),color=\"Orange\")\n",
    "plt.xticks(rotation = 50,fontsize=15)\n",
    "plt.yticks(fontsize=15)\n",
    "plt.xlabel(\"City\",fontsize=15)\n",
    "plt.ylabel(\"Number of attack\",fontsize=15)\n",
    "plt.title(\"Top 10 most Affected city\",fontsize=20)\n",
    "plt.show()"
   ]
  },
  {
   "cell_type": "code",
   "execution_count": null,
   "id": "2b509c13",
   "metadata": {},
   "outputs": [],
   "source": [
    "Terrorism_Dataframe['Group'].value_counts().to_frame().drop('Unknown').head(10).plot(kind='bar',color='Green',figsize=(20,10))\n",
    "plt.title(\"Top 10 Terrorist group Attack\",fontsize=20)\n",
    "plt.xlabel(\"Name of Terrorist Group\",fontsize=15)\n",
    "plt.ylabel(\"Number of Attacks\",fontsize=15)\n",
    "plt.xticks(fontsize=13)\n",
    "plt.yticks(fontsize=15)\n",
    "plt.show()"
   ]
  },
  {
   "cell_type": "code",
   "execution_count": null,
   "id": "9a0a0d15",
   "metadata": {},
   "outputs": [],
   "source": [
    "plt.subplots(figsize=(20,10))\n",
    "sns.countplot(x=Terrorism_Dataframe[\"Targettype\"],order=Terrorism_Dataframe['Targettype'].value_counts().index,palette=\"winter\",edgecolor=sns.color_palette(\"winter\"));\n",
    "plt.xticks(rotation=90,fontsize=15)\n",
    "plt.yticks(fontsize=15)\n",
    "plt.xlabel(\"Type of Target\",fontsize=15)\n",
    "plt.ylabel(\"count\",fontsize=15)\n",
    "plt.title(\"Attack per Year\",fontsize=20)\n",
    "plt.show()"
   ]
  },
  {
   "cell_type": "code",
   "execution_count": null,
   "id": "5ed7443e",
   "metadata": {},
   "outputs": [],
   "source": [
    "df=Terrorism_Dataframe[['Group','Country','Kill']]\n",
    "df=df.groupby(['Group','Country'],axis=0).sum().sort_values('Kill',ascending=False).reset_index().head(10)\n",
    "df"
   ]
  },
  {
   "cell_type": "code",
   "execution_count": null,
   "id": "dc2483a8",
   "metadata": {},
   "outputs": [],
   "source": [
    "df=Terrorism_Dataframe[['Group','City','Kill']]\n",
    "df=df.groupby(['Group','City'],axis=0).sum().sort_values('Kill',ascending=False).reset_index().head(10)\n",
    "df"
   ]
  },
  {
   "cell_type": "markdown",
   "id": "705a8feb",
   "metadata": {},
   "source": [
    "# Conclusion/Observations:\n",
    "1) The most attacked country is Iraq where more than 31,000 people killed by Terrorists.\n",
    "2) The most attacked city is Mosul where more than 4,500 people killed by Terrorists.\n",
    "3) The most attacks which took place was in the year 2014 where more than 40,000 people died.\n",
    "4) The most attacked regions are Middle East & North Africa.\n",
    "5) The group named 'Taliban' Attacked mostly with more than 7,000 attacks.\n",
    "6) Favoured Attack type by Terrorists is Armed Assault where approximately 1,60,000 people died.\n",
    "7) Terrorists mostly Targeted Private Citizens and Property every year. "
   ]
  }
 ],
 "metadata": {
  "kernelspec": {
   "display_name": "Python 3 (ipykernel)",
   "language": "python",
   "name": "python3"
  },
  "language_info": {
   "codemirror_mode": {
    "name": "ipython",
    "version": 3
   },
   "file_extension": ".py",
   "mimetype": "text/x-python",
   "name": "python",
   "nbconvert_exporter": "python",
   "pygments_lexer": "ipython3",
   "version": "3.9.6"
  }
 },
 "nbformat": 4,
 "nbformat_minor": 5
}
